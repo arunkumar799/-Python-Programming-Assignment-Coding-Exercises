{
 "cells": [
  {
   "cell_type": "code",
   "execution_count": 2,
   "id": "f3fd68bb-d10b-41d3-9489-b73905ea1518",
   "metadata": {},
   "outputs": [],
   "source": [
    "import warnings\n",
    "warnings.filterwarnings('ignore')"
   ]
  },
  {
   "cell_type": "markdown",
   "id": "880cfae5-c595-43b9-95da-a6ab30bbd8d6",
   "metadata": {},
   "source": [
    "#Quesion 1-Prime Numbers\n",
    "\n",
    "Write a Python program that checks whether a given number is prime or not. \n",
    "A prime number is a natural number greater than 1 that has no positive divisors \n",
    "other than 1 and itself."
   ]
  },
  {
   "cell_type": "code",
   "execution_count": 79,
   "id": "73992223-96c2-4bc0-8df1-b3167888073e",
   "metadata": {},
   "outputs": [
    {
     "name": "stdin",
     "output_type": "stream",
     "text": [
      "Enter a Integers:  9\n"
     ]
    },
    {
     "name": "stdout",
     "output_type": "stream",
     "text": [
      "Not a Prime Number\n"
     ]
    }
   ],
   "source": [
    "n=int(input('Enter a Integers: '))\n",
    "if n<=1:\n",
    "    print('It is not a prime number')\n",
    "if n>1:\n",
    "    for i in range(2,n):\n",
    "        if  n%i == 0:\n",
    "            print('Not a Prime Number')\n",
    "            break\n",
    "    else:\n",
    "        print('It Is a Prime Number')"
   ]
  },
  {
   "cell_type": "markdown",
   "id": "b2fe7471-239b-4db5-9aa6-00213af949a4",
   "metadata": {},
   "source": [
    "#Question 2-Product of Random Numbers\n",
    "\n",
    "Develop a Python program that generates two \n",
    "random numbers and asks the user to enter the \n",
    "product of these numbers. The program should then \n",
    "check if the user's answer is correct and display an \n",
    "appropriate message."
   ]
  },
  {
   "cell_type": "code",
   "execution_count": 6,
   "id": "872e0b90-9fdf-4c14-9d7c-5584d69ec578",
   "metadata": {},
   "outputs": [],
   "source": [
    "import numpy as np\n",
    "import pandas as pd"
   ]
  },
  {
   "cell_type": "code",
   "execution_count": null,
   "id": "99f1ddde-8f41-4073-b95c-fbb1c07c60f3",
   "metadata": {},
   "outputs": [],
   "source": []
  },
  {
   "cell_type": "code",
   "execution_count": 7,
   "id": "5a4e168b-28c5-4236-a05f-0afa29f0a7a4",
   "metadata": {},
   "outputs": [
    {
     "name": "stdout",
     "output_type": "stream",
     "text": [
      "[74 29]\n"
     ]
    },
    {
     "name": "stdin",
     "output_type": "stream",
     "text": [
      "Enter values  numbers:  5\n"
     ]
    },
    {
     "name": "stdout",
     "output_type": "stream",
     "text": [
      "Enter Correct One\n"
     ]
    }
   ],
   "source": [
    "produce_rd=np.random.random_integers(0,100,2)\n",
    "print(produce_rd)\n",
    "user_choice=int(input('Enter values  numbers: '))\n",
    "if user_choice in produce_rd:\n",
    "    print('Correct Choice')\n",
    "else:\n",
    "    print('Enter Correct One')"
   ]
  },
  {
   "cell_type": "markdown",
   "id": "f18ffbbd-cc6d-46ff-b27a-f9b12c1570ee",
   "metadata": {},
   "source": [
    "#Question 3-Squares of Even/Odd Numbers\n",
    "\n",
    "Create a Python script that prints the squares of all \n",
    "even or odd numbers within the range of 100 to 200. \n",
    "Choose either even or odd numbers and document your choice in the code."
   ]
  },
  {
   "cell_type": "code",
   "execution_count": 2,
   "id": "41a0ae92-8dcd-42ca-8dc0-21a3c313c352",
   "metadata": {},
   "outputs": [
    {
     "name": "stdin",
     "output_type": "stream",
     "text": [
      "Enter n Value:  102\n"
     ]
    },
    {
     "name": "stdout",
     "output_type": "stream",
     "text": [
      "10404\n",
      "Even Number\n"
     ]
    }
   ],
   "source": [
    "n=int(input('Enter n Value: '))\n",
    "if n>=100 and n<=200:\n",
    "    Multiply=n*n\n",
    "    print(Multiply)\n",
    "    if Multiply%2==0:\n",
    "        print('Even Number')\n",
    "    else:\n",
    "        print('Odd Number')\n",
    "else:\n",
    "    print('Enter n Values In Between 100 to 200')  "
   ]
  },
  {
   "cell_type": "markdown",
   "id": "01329b78-f468-41dc-a0e4-49dcb47c703e",
   "metadata": {},
   "source": [
    "#Question 4-Word counter\n",
    "\n",
    "write a program to count the number of words in a given text."
   ]
  },
  {
   "cell_type": "code",
   "execution_count": 41,
   "id": "89aa261c-1ba4-42ce-ba54-d192f21996eb",
   "metadata": {},
   "outputs": [
    {
     "name": "stdout",
     "output_type": "stream",
     "text": [
      "This: 2\n",
      "is: 1\n",
      "a: 1\n",
      "sample: 1\n",
      "text.: 1\n",
      "text: 1\n",
      "will: 1\n",
      "be: 1\n",
      "used: 1\n",
      "to: 1\n",
      "demonstrate: 1\n",
      "the: 1\n",
      "word: 1\n",
      "counter.: 1\n"
     ]
    }
   ],
   "source": [
    "from collections import Counter\n",
    "input_text = \"This is a sample text. This text will be used to demonstrate the word counter.\"\n",
    "split = input_text.split()\n",
    "counting_string = Counter(split)\n",
    "for i in counting_string:\n",
    "     print(f\"{i}: {counting_string[i]}\")"
   ]
  },
  {
   "cell_type": "markdown",
   "id": "63165bf3-da24-406d-ac43-c8dea4b3fc15",
   "metadata": {},
   "source": [
    "#Question 5-Check for Palindrome\n",
    "\n",
    "Write a Python function called is_palindrome that takes a string as input and returns True if the string is a palindrome, and False otherwise. A palindrome is a word, phrase, number, or other sequence of characters that reads the same forward and backward, ignoring spaces, punctuation, and capitalization."
   ]
  },
  {
   "cell_type": "code",
   "execution_count": 51,
   "id": "918cd751-2425-47d5-ad9e-1c0a2b6cf99e",
   "metadata": {},
   "outputs": [
    {
     "name": "stdout",
     "output_type": "stream",
     "text": [
      "True\n"
     ]
    }
   ],
   "source": [
    "a= \"racecar\"\n",
    "value=a[::-1]\n",
    "if value == a:\n",
    "    print('True')\n",
    "else:\n",
    "    print('False')"
   ]
  },
  {
   "cell_type": "code",
   "execution_count": 83,
   "id": "6113116a-929b-420c-a90a-aa5501ecb3ae",
   "metadata": {},
   "outputs": [
    {
     "name": "stdin",
     "output_type": "stream",
     "text": [
      "Enter the Number 2\n"
     ]
    },
    {
     "name": "stdout",
     "output_type": "stream",
     "text": [
      "Prime number 2\n"
     ]
    }
   ],
   "source": [
    "n=int(input('Enter the Number'))\n",
    "if n <= 1:\n",
    "    print(\"not a prime number\")\n",
    "if n > 1:\n",
    "    for i in range(2,n):\n",
    "        if n%i == 0:\n",
    "            print('Not a prime number',n)\n",
    "            break\n",
    "    else:\n",
    "        print('Prime number',n)"
   ]
  },
  {
   "cell_type": "code",
   "execution_count": null,
   "id": "b058e36c-10e3-4ea2-8f8c-b0f7bf8d7ead",
   "metadata": {},
   "outputs": [],
   "source": []
  }
 ],
 "metadata": {
  "kernelspec": {
   "display_name": "Python 3 (ipykernel)",
   "language": "python",
   "name": "python3"
  },
  "language_info": {
   "codemirror_mode": {
    "name": "ipython",
    "version": 3
   },
   "file_extension": ".py",
   "mimetype": "text/x-python",
   "name": "python",
   "nbconvert_exporter": "python",
   "pygments_lexer": "ipython3",
   "version": "3.12.4"
  }
 },
 "nbformat": 4,
 "nbformat_minor": 5
}
